{
  "nbformat": 4,
  "nbformat_minor": 0,
  "metadata": {
    "colab": {
      "provenance": [],
      "authorship_tag": "ABX9TyM3d89CpRi/UrlA4adU8KPv",
      "include_colab_link": true
    },
    "kernelspec": {
      "name": "python3",
      "display_name": "Python 3"
    },
    "language_info": {
      "name": "python"
    }
  },
  "cells": [
    {
      "cell_type": "markdown",
      "metadata": {
        "id": "view-in-github",
        "colab_type": "text"
      },
      "source": [
        "<a href=\"https://colab.research.google.com/github/RedHairShankS007/dict-and-set/blob/main/conditional_ifandelif.ipynb\" target=\"_parent\"><img src=\"https://colab.research.google.com/assets/colab-badge.svg\" alt=\"Open In Colab\"/></a>"
      ]
    },
    {
      "cell_type": "markdown",
      "source": [
        "# write a python program to find the greatest of four numbers entered by the user."
      ],
      "metadata": {
        "id": "N2U2t4hvZwmi"
      }
    },
    {
      "cell_type": "code",
      "execution_count": 3,
      "metadata": {
        "colab": {
          "base_uri": "https://localhost:8080/"
        },
        "id": "J_2ulpuKZufI",
        "outputId": "e25b8fb9-caea-431a-9cfb-7d97023ff052"
      },
      "outputs": [
        {
          "output_type": "stream",
          "name": "stdout",
          "text": [
            "enter a number: 1000\n",
            "enter a number: 1500\n",
            "enter a number: 45\n",
            "enter a number: 21\n",
            "[21, 45, 1000, 1500]\n",
            "1500\n",
            "is the greatest number among all\n"
          ]
        }
      ],
      "source": [
        "numbers=[]\n",
        "n1=int(input(\"enter a number: \"))\n",
        "numbers.append(n1)\n",
        "n2=int(input(\"enter a number: \"))\n",
        "numbers.append(n2)\n",
        "n3=int(input(\"enter a number: \"))\n",
        "numbers.append(n3)\n",
        "n4=int(input(\"enter a number: \"))\n",
        "numbers.append(n4)\n",
        "numbers.sort() # this is used to sort all four numbers present in the list in assending order\n",
        "print(numbers)\n",
        "if(n1>n2 and n1>n3 and n1>n4):\n",
        "  print(n1)\n",
        "elif(n2>n1 and n2>n3 and n2>n4):\n",
        "  print(n2)\n",
        "elif(n3>n1 and n3>n2 and n3>n4):\n",
        "  print(n3)\n",
        "else:\n",
        "  print(n4)\n",
        "print(\"is the greatest number among all\")"
      ]
    }
  ]
}